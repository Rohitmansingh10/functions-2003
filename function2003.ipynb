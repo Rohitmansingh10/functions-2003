{
 "cells": [
  {
   "cell_type": "markdown",
   "id": "178acd6d-7fc5-4ae0-832b-b0e467877cbb",
   "metadata": {},
   "source": [
    "## 1. Write a Python function that takes a list of numbers as input and returns the sum of all even numbers in the list."
   ]
  },
  {
   "cell_type": "code",
   "execution_count": 4,
   "id": "66ce9e8b-39e5-4590-b25c-d58b59c8b00a",
   "metadata": {},
   "outputs": [
    {
     "name": "stdout",
     "output_type": "stream",
     "text": [
      "Sum of even numbers: 16\n"
     ]
    }
   ],
   "source": [
    "def sum_of_even_numbers(numbers):\n",
    "    return sum(num for num in numbers if num % 2 == 0)\n",
    "\n",
    "# Example usage:\n",
    "numbers_list = [5, 6, 7, 9, 10, 13]\n",
    "result = sum_of_even_numbers(numbers_list)\n",
    "print(\"Sum of even numbers:\", result)\n"
   ]
  },
  {
   "cell_type": "markdown",
   "id": "ac1fa072-df1f-4a50-bd08-9bf78dc3ce6a",
   "metadata": {},
   "source": [
    "## 2. Create a Python function that accepts a string and returns the reverse of that string."
   ]
  },
  {
   "cell_type": "code",
   "execution_count": 5,
   "id": "22dee77f-e369-4495-aa61-230acb747d04",
   "metadata": {},
   "outputs": [
    {
     "name": "stdout",
     "output_type": "stream",
     "text": [
      "Reversed string: !tihor ,ih\n"
     ]
    }
   ],
   "source": [
    "def reverse_string(s):\n",
    "    return s[::-1]\n",
    "\n",
    "# Example usage:\n",
    "input_string = \"hi, rohit!\"\n",
    "reversed_string = reverse_string(input_string)\n",
    "print(\"Reversed string:\", reversed_string)\n"
   ]
  },
  {
   "cell_type": "markdown",
   "id": "323fd51b-bd4c-41e3-8f8a-2e544ddc8a76",
   "metadata": {},
   "source": [
    "## 3. Implement a Python function that takes a list of integers and returns a new list containing the squares of each numbers."
   ]
  },
  {
   "cell_type": "code",
   "execution_count": 7,
   "id": "b6278e13-8843-4f15-a669-276a6522634a",
   "metadata": {},
   "outputs": [
    {
     "name": "stdout",
     "output_type": "stream",
     "text": [
      "Squared numbers: [1, 144, 529, 1156, 3025]\n"
     ]
    }
   ],
   "source": [
    "def square_numbers(numbers):\n",
    "    return [num ** 2 for num in numbers]\n",
    "\n",
    "# Example usage:\n",
    "numbers_list = [1, 12, 23, 34, \n",
    "                55]\n",
    "squared_list = square_numbers(numbers_list)\n",
    "print(\"Squared numbers:\", squared_list)\n"
   ]
  },
  {
   "cell_type": "markdown",
   "id": "3761e838-71bf-4038-8930-5ce776f46909",
   "metadata": {},
   "source": [
    "## 4. Write a Python function that checks if a given number is prime or not from 1 to 200."
   ]
  },
  {
   "cell_type": "code",
   "execution_count": 9,
   "id": "0fc521f2-8ce7-470e-bde0-77e241e2c4fa",
   "metadata": {},
   "outputs": [
    {
     "name": "stdout",
     "output_type": "stream",
     "text": [
      "1 is not a prime number.\n",
      "2 is a prime number.\n",
      "3 is a prime number.\n",
      "4 is not a prime number.\n",
      "5 is a prime number.\n",
      "6 is not a prime number.\n",
      "7 is a prime number.\n",
      "8 is not a prime number.\n",
      "9 is not a prime number.\n",
      "10 is not a prime number.\n",
      "11 is a prime number.\n",
      "12 is not a prime number.\n",
      "13 is a prime number.\n",
      "14 is not a prime number.\n",
      "15 is not a prime number.\n",
      "16 is not a prime number.\n",
      "17 is a prime number.\n",
      "18 is not a prime number.\n",
      "19 is a prime number.\n",
      "20 is not a prime number.\n",
      "21 is not a prime number.\n",
      "22 is not a prime number.\n",
      "23 is a prime number.\n",
      "24 is not a prime number.\n",
      "25 is not a prime number.\n",
      "26 is not a prime number.\n",
      "27 is not a prime number.\n",
      "28 is not a prime number.\n",
      "29 is a prime number.\n",
      "30 is not a prime number.\n",
      "31 is a prime number.\n",
      "32 is not a prime number.\n",
      "33 is not a prime number.\n",
      "34 is not a prime number.\n",
      "35 is not a prime number.\n",
      "36 is not a prime number.\n",
      "37 is a prime number.\n",
      "38 is not a prime number.\n",
      "39 is not a prime number.\n",
      "40 is not a prime number.\n",
      "41 is a prime number.\n",
      "42 is not a prime number.\n",
      "43 is a prime number.\n",
      "44 is not a prime number.\n",
      "45 is not a prime number.\n",
      "46 is not a prime number.\n",
      "47 is a prime number.\n",
      "48 is not a prime number.\n",
      "49 is not a prime number.\n",
      "50 is not a prime number.\n",
      "51 is not a prime number.\n",
      "52 is not a prime number.\n",
      "53 is a prime number.\n",
      "54 is not a prime number.\n",
      "55 is not a prime number.\n",
      "56 is not a prime number.\n",
      "57 is not a prime number.\n",
      "58 is not a prime number.\n",
      "59 is a prime number.\n",
      "60 is not a prime number.\n",
      "61 is a prime number.\n",
      "62 is not a prime number.\n",
      "63 is not a prime number.\n",
      "64 is not a prime number.\n",
      "65 is not a prime number.\n",
      "66 is not a prime number.\n",
      "67 is a prime number.\n",
      "68 is not a prime number.\n",
      "69 is not a prime number.\n",
      "70 is not a prime number.\n",
      "71 is a prime number.\n",
      "72 is not a prime number.\n",
      "73 is a prime number.\n",
      "74 is not a prime number.\n",
      "75 is not a prime number.\n",
      "76 is not a prime number.\n",
      "77 is not a prime number.\n",
      "78 is not a prime number.\n",
      "79 is a prime number.\n",
      "80 is not a prime number.\n",
      "81 is not a prime number.\n",
      "82 is not a prime number.\n",
      "83 is a prime number.\n",
      "84 is not a prime number.\n",
      "85 is not a prime number.\n",
      "86 is not a prime number.\n",
      "87 is not a prime number.\n",
      "88 is not a prime number.\n",
      "89 is a prime number.\n",
      "90 is not a prime number.\n",
      "91 is not a prime number.\n",
      "92 is not a prime number.\n",
      "93 is not a prime number.\n",
      "94 is not a prime number.\n",
      "95 is not a prime number.\n",
      "96 is not a prime number.\n",
      "97 is a prime number.\n",
      "98 is not a prime number.\n",
      "99 is not a prime number.\n",
      "100 is not a prime number.\n",
      "101 is a prime number.\n",
      "102 is not a prime number.\n",
      "103 is a prime number.\n",
      "104 is not a prime number.\n",
      "105 is not a prime number.\n",
      "106 is not a prime number.\n",
      "107 is a prime number.\n",
      "108 is not a prime number.\n",
      "109 is a prime number.\n",
      "110 is not a prime number.\n",
      "111 is not a prime number.\n",
      "112 is not a prime number.\n",
      "113 is a prime number.\n",
      "114 is not a prime number.\n",
      "115 is not a prime number.\n",
      "116 is not a prime number.\n",
      "117 is not a prime number.\n",
      "118 is not a prime number.\n",
      "119 is not a prime number.\n",
      "120 is not a prime number.\n",
      "121 is not a prime number.\n",
      "122 is not a prime number.\n",
      "123 is not a prime number.\n",
      "124 is not a prime number.\n",
      "125 is not a prime number.\n",
      "126 is not a prime number.\n",
      "127 is a prime number.\n",
      "128 is not a prime number.\n",
      "129 is not a prime number.\n",
      "130 is not a prime number.\n",
      "131 is a prime number.\n",
      "132 is not a prime number.\n",
      "133 is not a prime number.\n",
      "134 is not a prime number.\n",
      "135 is not a prime number.\n",
      "136 is not a prime number.\n",
      "137 is a prime number.\n",
      "138 is not a prime number.\n",
      "139 is a prime number.\n",
      "140 is not a prime number.\n",
      "141 is not a prime number.\n",
      "142 is not a prime number.\n",
      "143 is not a prime number.\n",
      "144 is not a prime number.\n",
      "145 is not a prime number.\n",
      "146 is not a prime number.\n",
      "147 is not a prime number.\n",
      "148 is not a prime number.\n",
      "149 is a prime number.\n",
      "150 is not a prime number.\n",
      "151 is a prime number.\n",
      "152 is not a prime number.\n",
      "153 is not a prime number.\n",
      "154 is not a prime number.\n",
      "155 is not a prime number.\n",
      "156 is not a prime number.\n",
      "157 is a prime number.\n",
      "158 is not a prime number.\n",
      "159 is not a prime number.\n",
      "160 is not a prime number.\n",
      "161 is not a prime number.\n",
      "162 is not a prime number.\n",
      "163 is a prime number.\n",
      "164 is not a prime number.\n",
      "165 is not a prime number.\n",
      "166 is not a prime number.\n",
      "167 is a prime number.\n",
      "168 is not a prime number.\n",
      "169 is not a prime number.\n",
      "170 is not a prime number.\n",
      "171 is not a prime number.\n",
      "172 is not a prime number.\n",
      "173 is a prime number.\n",
      "174 is not a prime number.\n",
      "175 is not a prime number.\n",
      "176 is not a prime number.\n",
      "177 is not a prime number.\n",
      "178 is not a prime number.\n",
      "179 is a prime number.\n",
      "180 is not a prime number.\n",
      "181 is a prime number.\n",
      "182 is not a prime number.\n",
      "183 is not a prime number.\n",
      "184 is not a prime number.\n",
      "185 is not a prime number.\n",
      "186 is not a prime number.\n",
      "187 is not a prime number.\n",
      "188 is not a prime number.\n",
      "189 is not a prime number.\n",
      "190 is not a prime number.\n",
      "191 is a prime number.\n",
      "192 is not a prime number.\n",
      "193 is a prime number.\n",
      "194 is not a prime number.\n",
      "195 is not a prime number.\n",
      "196 is not a prime number.\n",
      "197 is a prime number.\n",
      "198 is not a prime number.\n",
      "199 is a prime number.\n",
      "200 is not a prime number.\n"
     ]
    }
   ],
   "source": [
    "def is_prime(num):\n",
    "    if num < 2:\n",
    "        return False\n",
    "    for i in range(2, int(num ** 0.5) + 1):\n",
    "        if num % i == 0:\n",
    "            return False\n",
    "    return True\n",
    "\n",
    "# Example usage:\n",
    "for number in range(1, 201):\n",
    "    if is_prime(number):\n",
    "        print(f\"{number} is a prime number.\")\n",
    "    else:\n",
    "        print(f\"{number} is not a prime number.\")\n"
   ]
  },
  {
   "cell_type": "markdown",
   "id": "bc5e0edd-8328-4533-b762-7e431f8d9a32",
   "metadata": {},
   "source": [
    "## 5. Create an iterator class in Python that generates the Fibonacci sequence up to a specified number of terms."
   ]
  },
  {
   "cell_type": "code",
   "execution_count": 10,
   "id": "7c1b35bc-770e-43fe-9a47-3de24a272f6f",
   "metadata": {},
   "outputs": [
    {
     "name": "stdout",
     "output_type": "stream",
     "text": [
      "0\n",
      "1\n",
      "1\n",
      "2\n",
      "3\n",
      "5\n",
      "8\n",
      "13\n",
      "21\n",
      "34\n"
     ]
    }
   ],
   "source": [
    "class FibonacciIterator:\n",
    "    def __init__(self, num_terms):\n",
    "        self.num_terms = num_terms\n",
    "        self.current_term = 0\n",
    "        self.a, self.b = 0, 1\n",
    "\n",
    "    def __iter__(self):\n",
    "        return self\n",
    "\n",
    "    def __next__(self):\n",
    "        if self.current_term >= self.num_terms:\n",
    "            raise StopIteration\n",
    "        if self.current_term == 0:\n",
    "            self.current_term += 1\n",
    "            return 0\n",
    "        elif self.current_term == 1:\n",
    "            self.current_term += 1\n",
    "            return 1\n",
    "        else:\n",
    "            self.current_term += 1\n",
    "            fib = self.a + self.b\n",
    "            self.a, self.b = self.b, fib\n",
    "            return fib\n",
    "\n",
    "# Example usage:\n",
    "fib_iterator = FibonacciIterator(10)  # Fibonacci sequence for 10 terms\n",
    "for number in fib_iterator:\n",
    "    print(number)\n"
   ]
  },
  {
   "cell_type": "markdown",
   "id": "d9694d36-df6e-43b0-8f73-5865a4c744e0",
   "metadata": {},
   "source": [
    "## 6. Write a generator function in Python that yields the powers of 2 up to a given exponent."
   ]
  },
  {
   "cell_type": "code",
   "execution_count": 11,
   "id": "60d6b045-4eb4-41d6-a451-eb9357932cd0",
   "metadata": {},
   "outputs": [
    {
     "name": "stdout",
     "output_type": "stream",
     "text": [
      "1\n",
      "2\n",
      "4\n",
      "8\n",
      "16\n",
      "32\n"
     ]
    }
   ],
   "source": [
    "def powers_of_two(max_exponent):\n",
    "    for exponent in range(max_exponent + 1):\n",
    "        yield 2 ** exponent\n",
    "\n",
    "# Example usage:\n",
    "for power in powers_of_two(5):\n",
    "    print(power)\n"
   ]
  },
  {
   "cell_type": "markdown",
   "id": "b7219f1a-0569-4037-9202-126545aada95",
   "metadata": {},
   "source": [
    "## 7. Implement a generator function that reads a file line by line and yields each line as a string."
   ]
  },
  {
   "cell_type": "code",
   "execution_count": null,
   "id": "a9563f03-8656-47ba-a8ce-d0049a8e189c",
   "metadata": {},
   "outputs": [],
   "source": [
    "def read_file_line_by_line(file_path):\n",
    "    with open(file_path, 'r') as file:\n",
    "        for line in file:\n",
    "            yield line.strip()  # Removes leading/trailing whitespace and newlines\n",
    "\n",
    "# Example usage:\n",
    "# Assuming 'example.txt' is the file you want to read\n",
    "for line in read_file_line_by_line('example.txt'):\n",
    "    print(line)\n"
   ]
  },
  {
   "cell_type": "markdown",
   "id": "9e001f6f-f904-41f8-887f-e45e37779255",
   "metadata": {},
   "source": [
    "## 8. Use a lambda function in Python to sort a list of tuples based on the second element of each tuple"
   ]
  },
  {
   "cell_type": "code",
   "execution_count": 18,
   "id": "908003b9-9788-4883-b540-4480c9fd0391",
   "metadata": {},
   "outputs": [
    {
     "name": "stdout",
     "output_type": "stream",
     "text": [
      "Sorted list based on second element: [(5, 0), (4, 1), (2, 2), (1, 3)]\n"
     ]
    }
   ],
   "source": [
    "# List of tuples\n",
    "tuples_list = [(1, 3), (4, 1), (2, 2), (5, 0)]\n",
    "\n",
    "# Sorting using a lambda function\n",
    "sorted_list = sorted(tuples_list, key=lambda x: x[1])\n",
    "\n",
    "# Example usage:\n",
    "print(\"Sorted list based on second element:\", sorted_list)\n"
   ]
  },
  {
   "cell_type": "markdown",
   "id": "ff363e54-9fe2-4260-886e-5893bfe358c2",
   "metadata": {},
   "source": [
    "## 9. Write a Python program that uses `map()` to convert a list of temperatures from Celsius to Fahrenheit"
   ]
  },
  {
   "cell_type": "code",
   "execution_count": 19,
   "id": "50129786-5ce4-4c1a-a679-644b1aa9dcaf",
   "metadata": {},
   "outputs": [
    {
     "name": "stdout",
     "output_type": "stream",
     "text": [
      "Temperatures in Fahrenheit: [32.0, 68.0, 98.6, 212.0]\n"
     ]
    }
   ],
   "source": [
    "# Function to convert Celsius to Fahrenheit\n",
    "def celsius_to_fahrenheit(celsius):\n",
    "    return (celsius * 9/5) + 32\n",
    "\n",
    "# List of temperatures in Celsius\n",
    "celsius_temperatures = [0, 20, 37, 100]\n",
    "\n",
    "# Use map to convert each Celsius temperature to Fahrenheit\n",
    "fahrenheit_temperatures = list(map(celsius_to_fahrenheit, celsius_temperatures))\n",
    "\n",
    "# Example usage:\n",
    "print(\"Temperatures in Fahrenheit:\", fahrenheit_temperatures)\n"
   ]
  },
  {
   "cell_type": "markdown",
   "id": "9aaa10d7-3dc7-4bef-ace0-2770f8ec4905",
   "metadata": {},
   "source": [
    "## 10. Create a Python program that uses `filter()` to remove all the vowels from a given string."
   ]
  },
  {
   "cell_type": "code",
   "execution_count": 20,
   "id": "6843be9b-ba70-455e-9213-af9dffa4b386",
   "metadata": {},
   "outputs": [
    {
     "name": "stdout",
     "output_type": "stream",
     "text": [
      "String without vowels: vry, swt!\n"
     ]
    }
   ],
   "source": [
    "# Define a function that checks if a character is not a vowel\n",
    "def is_not_vowel(char):\n",
    "    return char.lower() not in 'aeiou'\n",
    "\n",
    "# Given string\n",
    "input_string = \"very, sweet!\"\n",
    "\n",
    "# Use filter to remove vowels\n",
    "filtered_string = ''.join(filter(is_not_vowel, input_string))\n",
    "\n",
    "# Example usage:\n",
    "print(\"String without vowels:\", filtered_string)\n"
   ]
  },
  {
   "cell_type": "markdown",
   "id": "4a141818-2941-41f0-9a6f-0a5d13c06288",
   "metadata": {},
   "source": [
    "## 11) Imagine an accounting routine used in a book shop. It works on a list with sublists, which look like this:"
   ]
  },
  {
   "cell_type": "code",
   "execution_count": 21,
   "id": "699995e7-e694-47a7-ae68-de8cd3a541cc",
   "metadata": {},
   "outputs": [
    {
     "name": "stdout",
     "output_type": "stream",
     "text": [
      "[(34587, 163.8), (98762, 284.0), (77226, 108.85000000000001), (88112, 84.97)]\n"
     ]
    }
   ],
   "source": [
    "def calculate_order_values(order_data):\n",
    "    return list(map(lambda order: (order[0], order[2] * order[3] + 10 if order[2] * order[3] < 100 else order[2] * order[3]), order_data))\n",
    "\n",
    "# Example usage\n",
    "order_data = [\n",
    "    [34587, \"Learning Python, Mark Lutz\", 4, 40.95],\n",
    "    [98762, \"Programming Python, Mark Lutz\", 5, 56.80],\n",
    "    [77226, \"Head First Python, Paul Barry\", 3, 32.95],\n",
    "    [88112, \"Einführung in Python3, Bernd Klein\", 3, 24.99]\n",
    "]\n",
    "\n",
    "result = calculate_order_values(order_data)\n",
    "print(result)"
   ]
  },
  {
   "cell_type": "code",
   "execution_count": null,
   "id": "3d945a91-b741-4667-bc9a-1d0523eb6076",
   "metadata": {},
   "outputs": [],
   "source": []
  }
 ],
 "metadata": {
  "kernelspec": {
   "display_name": "Python 3 (ipykernel)",
   "language": "python",
   "name": "python3"
  },
  "language_info": {
   "codemirror_mode": {
    "name": "ipython",
    "version": 3
   },
   "file_extension": ".py",
   "mimetype": "text/x-python",
   "name": "python",
   "nbconvert_exporter": "python",
   "pygments_lexer": "ipython3",
   "version": "3.10.8"
  }
 },
 "nbformat": 4,
 "nbformat_minor": 5
}
